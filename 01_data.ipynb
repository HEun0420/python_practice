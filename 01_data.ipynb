{
 "cells": [
  {
   "cell_type": "code",
   "execution_count": 1,
   "metadata": {},
   "outputs": [
    {
     "name": "stdout",
     "output_type": "stream",
     "text": [
      "2360\n",
      "40120\n",
      "181720\n"
     ]
    }
   ],
   "source": [
    "# a,b,c = map(int, input().split())\n",
    "\n",
    "a= 472\n",
    "b= 385\n",
    "\n",
    "print(a*(b%10))\n",
    "print(a*(b%100))\n",
    "\n",
    "37760\n",
    "print(a*b)"
   ]
  },
  {
   "cell_type": "code",
   "execution_count": 2,
   "metadata": {},
   "outputs": [
    {
     "name": "stdout",
     "output_type": "stream",
     "text": [
      "12\n"
     ]
    }
   ],
   "source": [
    "a, b, c= map(int, input().split())\n",
    "\n",
    "print(a+b+c)"
   ]
  },
  {
   "cell_type": "code",
   "execution_count": 3,
   "metadata": {},
   "outputs": [
    {
     "name": "stdout",
     "output_type": "stream",
     "text": [
      "{'(  /  )\\n', ' \\\\(__)|', '\\\\    /\\\\\"\\n\")  ( \"\\'\")\"\\n\"'}\n"
     ]
    },
    {
     "name": "stderr",
     "output_type": "stream",
     "text": [
      "<>:2: SyntaxWarning: invalid escape sequence '\\ '\n",
      "<>:5: SyntaxWarning: invalid escape sequence '\\('\n",
      "<>:2: SyntaxWarning: invalid escape sequence '\\ '\n",
      "<>:5: SyntaxWarning: invalid escape sequence '\\('\n",
      "C:\\Users\\80414\\AppData\\Local\\Temp\\ipykernel_12400\\1118801956.py:2: SyntaxWarning: invalid escape sequence '\\ '\n",
      "  '\\    /\\\\\"\\n\"'\n",
      "C:\\Users\\80414\\AppData\\Local\\Temp\\ipykernel_12400\\1118801956.py:5: SyntaxWarning: invalid escape sequence '\\('\n",
      "  ' \\(__)|'\n"
     ]
    }
   ],
   "source": [
    "cat= {\n",
    "'\\    /\\\\\"\\n\"'\n",
    " ')  ( \"\\'\")\"\\n\"',\n",
    "'(  /  )'\"\\n\",\n",
    "' \\(__)|'    \n",
    "}\n",
    "\n",
    "print(cat)"
   ]
  }
 ],
 "metadata": {
  "kernelspec": {
   "display_name": "pylecture_env",
   "language": "python",
   "name": "python3"
  },
  "language_info": {
   "codemirror_mode": {
    "name": "ipython",
    "version": 3
   },
   "file_extension": ".py",
   "mimetype": "text/x-python",
   "name": "python",
   "nbconvert_exporter": "python",
   "pygments_lexer": "ipython3",
   "version": "3.12.7"
  }
 },
 "nbformat": 4,
 "nbformat_minor": 2
}
