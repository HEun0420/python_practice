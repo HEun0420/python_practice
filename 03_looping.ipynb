{
 "cells": [
  {
   "cell_type": "code",
   "execution_count": null,
   "metadata": {},
   "outputs": [],
   "source": [
    "## 구구단\n",
    "n = int(input())\n",
    "for i in range(1,10):\n",
    "    print(f\"{n} * {i} = {n*i}\")"
   ]
  },
  {
   "cell_type": "code",
   "execution_count": 6,
   "metadata": {},
   "outputs": [
    {
     "name": "stdout",
     "output_type": "stream",
     "text": [
      "2\n",
      "4\n",
      "6\n",
      "8\n",
      "10\n"
     ]
    }
   ],
   "source": [
    "## A+B\n",
    "t = int(input())  \n",
    "\n",
    "for i in range(t): \n",
    "    a, b = map(int, input().split())\n",
    "    print(a + b) "
   ]
  },
  {
   "cell_type": "code",
   "execution_count": 5,
   "metadata": {},
   "outputs": [
    {
     "name": "stdout",
     "output_type": "stream",
     "text": [
      "1\n",
      "3\n",
      "6\n",
      "10\n",
      "15\n"
     ]
    }
   ],
   "source": [
    "# n이 주어졌을 때, 1부터 n까지 합을 구하는 프로그램을 작성하시오.\n",
    "\n",
    "n = int(input())\n",
    "\n",
    "total = 0\n",
    "for i in range(1,n+1):\n",
    "    total += i\n",
    "    \n",
    "    print(total) "
   ]
  },
  {
   "cell_type": "markdown",
   "metadata": {},
   "source": [
    "### 영수증\n",
    "\n",
    "준원이는 저번 주에 살면서 처음으로 코스트코를 가 봤다. 정말 멋졌다. 그런데, 몇 개 담지도 않았는데 수상하게 높은 금액이 나오는 것이다! 준원이는 영수증을 보면서 정확하게 계산된 것이 맞는지 확인해보려 한다.\n",
    "\n",
    "영수증에 적힌,\n",
    "구매한 각 물건의 가격과 개수\n",
    "구매한 물건들의 총 금액\n",
    "을 보고, 구매한 물건의 가격과 개수로 계산한 총 금액이 영수증에 적힌 총 금액과 일치하는지 검사해보자.\n",
    "\n",
    "\n",
    "첫째 줄에는 영수증에 적힌 총 금액 X가 주어진다.\n",
    "둘째 줄에는 영수증에 적힌 구매한 물건의 종류의 수 N이 주어진다.\n",
    "N개의 줄에는 각 물건의 가격 a와 개수 b가 공백을 사이에 두고 주어진다.\n",
    "\n",
    "\n",
    "구매한 물건의 가격과 개수로 계산한 총 금액이 영수증에 적힌 총 금액과 일치하면 Yes를 출력한다. 일치하지 않는다면 No를 출력한다."
   ]
  },
  {
   "cell_type": "code",
   "execution_count": null,
   "metadata": {},
   "outputs": [],
   "source": [
    "x = int(input())\n",
    "n= int(input())\n",
    "\n",
    "total = 0\n",
    "\n",
    "for i in range(1,n+1):\n",
    "    a,b =map(int, input().split())\n",
    "    productValues= a*b\n",
    "    total+= productValues\n",
    "    \n",
    "if total == x:\n",
    "    print(\"Yes\")\n",
    "else:\n",
    "    print(\"No\")"
   ]
  },
  {
   "cell_type": "code",
   "execution_count": 9,
   "metadata": {},
   "outputs": [
    {
     "name": "stdout",
     "output_type": "stream",
     "text": [
      "long int\n"
     ]
    }
   ],
   "source": [
    "n= int(input())\n",
    "zStr = \"long \"\n",
    "4<= n <= 1000\n",
    "n%4 == 0\n",
    "\n",
    "\n",
    "result = zStr*(n//4)\n",
    "    \n",
    "\n",
    "print( result+ \"int\")"
   ]
  },
  {
   "cell_type": "code",
   "execution_count": null,
   "metadata": {},
   "outputs": [],
   "source": [
    "## a+b\n",
    "import sys\n",
    "\n",
    "t = int(sys.stdin.readline())  \n",
    "total = 0\n",
    "\n",
    "for i in range(t):\n",
    "    a, b = map(int, sys.stdin.readline().split())\n",
    "    total = a + b\n",
    "    print(a + b)"
   ]
  },
  {
   "cell_type": "code",
   "execution_count": null,
   "metadata": {},
   "outputs": [],
   "source": [
    "## a+b\n",
    "x = int(input())\n",
    "\n",
    "for i in range(1, x + 1):\n",
    "    a, b = map(int, input().split())\n",
    "    \n",
    "    if 0 < a < 10 and 0 < b < 10:\n",
    "        plusAB = a + b\n",
    "        print(f\"Case #{i}: {plusAB}\")\n",
    "    else:\n",
    "        print(f\"Case #{i}: 조건에 포함되지 않은 수입니다.\")"
   ]
  },
  {
   "cell_type": "code",
   "execution_count": null,
   "metadata": {},
   "outputs": [],
   "source": [
    "## a+b\n",
    "x = int(input())\n",
    "\n",
    "for i in range(1, x + 1):\n",
    "    a, b = map(int, input().split())\n",
    "    \n",
    "    if 0 < a < 10 and 0 < b < 10:\n",
    "        plusAB = a + b\n",
    "        print(f\"Case #{i}: {a} + {b} = {plusAB}\")\n",
    "    else:\n",
    "        print(f\"Case #{i}: 조건에 포함되지 않은 수입니다.\")"
   ]
  },
  {
   "cell_type": "code",
   "execution_count": null,
   "metadata": {},
   "outputs": [],
   "source": [
    "## 별찍기\n",
    "n= int(input())\n",
    "1<=n <=100\n",
    "star= \"*\"\n",
    "\n",
    "for i in range(1,n+1):\n",
    "    print(star*i)"
   ]
  },
  {
   "cell_type": "code",
   "execution_count": null,
   "metadata": {},
   "outputs": [],
   "source": [
    "## 별찍기\n",
    "n= int(input())\n",
    "1<=n <=100\n",
    "star= \"*\"\n",
    "\n",
    "for i in range(1,n+1):\n",
    "    print(' '*(n-i)+star*i)"
   ]
  },
  {
   "cell_type": "code",
   "execution_count": null,
   "metadata": {},
   "outputs": [],
   "source": [
    "## a+b break 지정문\n",
    "while True:\n",
    "    a, b = map(int, input().split())\n",
    "    \n",
    "    if a == 0 and b == 0:\n",
    "        break  \n",
    "    elif 0 < a < 10 and 0 < b < 10:\n",
    "        plusAB = a + b\n",
    "        print(plusAB)  \n",
    "    else:\n",
    "        print(\"조건에 맞지 않는 수입니다.\")"
   ]
  },
  {
   "cell_type": "code",
   "execution_count": null,
   "metadata": {},
   "outputs": [],
   "source": [
    "## a+b break 지정x\n",
    "while True:\n",
    "    try: \n",
    "        a, b = map(int, input().split())\n",
    "        plusAB = a + b\n",
    "        print(plusAB)  \n",
    "    except:\n",
    "        break"
   ]
  },
  {
   "cell_type": "code",
   "execution_count": null,
   "metadata": {},
   "outputs": [],
   "source": []
  }
 ],
 "metadata": {
  "kernelspec": {
   "display_name": "pylecture_env",
   "language": "python",
   "name": "python3"
  },
  "language_info": {
   "codemirror_mode": {
    "name": "ipython",
    "version": 3
   },
   "file_extension": ".py",
   "mimetype": "text/x-python",
   "name": "python",
   "nbconvert_exporter": "python",
   "pygments_lexer": "ipython3",
   "version": "3.12.7"
  }
 },
 "nbformat": 4,
 "nbformat_minor": 2
}
